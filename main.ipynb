{
 "cells": [
  {
   "cell_type": "code",
   "execution_count": 144,
   "metadata": {},
   "outputs": [],
   "source": [
    "from datetime import datetime\n",
    "import json"
   ]
  },
  {
   "cell_type": "code",
   "execution_count": 145,
   "metadata": {},
   "outputs": [],
   "source": [
    "consumer_key = \"\"\n",
    "consumer_secret = \"\"\n",
    "access_token = \"-\"\n",
    "access_token_secret = \"\""
   ]
  },
  {
   "cell_type": "code",
   "execution_count": null,
   "metadata": {},
   "outputs": [],
   "source": [
    "from TwitterSearch import *\n",
    "\n",
    "try:\n",
    "    ts = TwitterSearch(\n",
    "        consumer_key = consumer_key,\n",
    "        consumer_secret = consumer_secret,\n",
    "        access_token = access_token,\n",
    "        access_token_secret = access_token_secret\n",
    "    )\n",
    "    \n",
    "    tso = TwitterSearchOrder()\n",
    "    tso.set_keywords(['Educação','prouni'], or_operator = True)\n",
    "    tso.set_language('pt')\n",
    "    \n",
    "    for tweet in ts.search_tweets_iterable(tso):\n",
    "        created_at = tweet['created_at']\n",
    "        user_id = tweet['id_str']\n",
    "        texto = tweet['text']\n",
    "        \n",
    "        # print('created_at: ',created_at,'User_id: ',user_id,'Tweet: ',texto)\n",
    "    \n",
    "        with open(\"tweet.json\", \"a+\") as output:\n",
    "            data = {\n",
    "                \"created_at\": created_at,\n",
    "                \"user_id\": user_id,\n",
    "                \"tweet\":texto\n",
    "            }\n",
    "            output.write(\"{}\\n\".format(json.dumps(data)))\n",
    "except TwitterSearchException as e:\n",
    "    print(e)"
   ]
  },
  {
   "cell_type": "code",
   "execution_count": 21,
   "metadata": {},
   "outputs": [
    {
     "data": {
      "text/html": [
       "<div>\n",
       "<style scoped>\n",
       "    .dataframe tbody tr th:only-of-type {\n",
       "        vertical-align: middle;\n",
       "    }\n",
       "\n",
       "    .dataframe tbody tr th {\n",
       "        vertical-align: top;\n",
       "    }\n",
       "\n",
       "    .dataframe thead th {\n",
       "        text-align: right;\n",
       "    }\n",
       "</style>\n",
       "<table border=\"1\" class=\"dataframe\">\n",
       "  <thead>\n",
       "    <tr style=\"text-align: right;\">\n",
       "      <th></th>\n",
       "      <th>created_at</th>\n",
       "      <th>user_id</th>\n",
       "      <th>tweet</th>\n",
       "    </tr>\n",
       "  </thead>\n",
       "  <tbody>\n",
       "    <tr>\n",
       "      <th>0</th>\n",
       "      <td>2022-05-23 21:19:21+00:00</td>\n",
       "      <td>1528848077846609920</td>\n",
       "      <td>RT @mylaura_m: Gusttavo Lima defende estado mí...</td>\n",
       "    </tr>\n",
       "    <tr>\n",
       "      <th>1</th>\n",
       "      <td>2022-05-23 21:19:20+00:00</td>\n",
       "      <td>1528848076538007552</td>\n",
       "      <td>@ronan_jacques @leanzferdinand @DanPimpao Eu e...</td>\n",
       "    </tr>\n",
       "    <tr>\n",
       "      <th>2</th>\n",
       "      <td>2022-05-23 21:19:20+00:00</td>\n",
       "      <td>1528848074805809152</td>\n",
       "      <td>RT @ClimaInfoNews: Os malditos milicos estão q...</td>\n",
       "    </tr>\n",
       "    <tr>\n",
       "      <th>3</th>\n",
       "      <td>2022-05-23 21:19:12+00:00</td>\n",
       "      <td>1528848040492257280</td>\n",
       "      <td>RT @vgveiga: #EWF2022 \\nO Diretor de Educação ...</td>\n",
       "    </tr>\n",
       "    <tr>\n",
       "      <th>4</th>\n",
       "      <td>2022-05-23 21:19:10+00:00</td>\n",
       "      <td>1528848034506936320</td>\n",
       "      <td>RT @BemAfrontosaaa: gente, n precisa falar cmg...</td>\n",
       "    </tr>\n",
       "    <tr>\n",
       "      <th>5</th>\n",
       "      <td>2022-05-23 21:19:09+00:00</td>\n",
       "      <td>1528848028018294784</td>\n",
       "      <td>Um conselho, façam um curso sobre educação fin...</td>\n",
       "    </tr>\n",
       "    <tr>\n",
       "      <th>6</th>\n",
       "      <td>2022-05-23 21:19:07+00:00</td>\n",
       "      <td>1528848022628716544</td>\n",
       "      <td>@barbieri_isa eu tirei zero em educação física...</td>\n",
       "    </tr>\n",
       "    <tr>\n",
       "      <th>7</th>\n",
       "      <td>2022-05-23 21:19:07+00:00</td>\n",
       "      <td>1528848022586675200</td>\n",
       "      <td>@CAMtulio13 Burra eu vou ser se continuar te d...</td>\n",
       "    </tr>\n",
       "    <tr>\n",
       "      <th>8</th>\n",
       "      <td>2022-05-23 21:18:55+00:00</td>\n",
       "      <td>1528847969373540352</td>\n",
       "      <td>RT @CascioCardoso: Não tem educação e provavel...</td>\n",
       "    </tr>\n",
       "    <tr>\n",
       "      <th>9</th>\n",
       "      <td>2022-05-23 21:18:54+00:00</td>\n",
       "      <td>1528847965875486720</td>\n",
       "      <td>RT @updatecharts: Dez alunos denunciaram abuso...</td>\n",
       "    </tr>\n",
       "  </tbody>\n",
       "</table>\n",
       "</div>"
      ],
      "text/plain": [
       "                 created_at              user_id  \\\n",
       "0 2022-05-23 21:19:21+00:00  1528848077846609920   \n",
       "1 2022-05-23 21:19:20+00:00  1528848076538007552   \n",
       "2 2022-05-23 21:19:20+00:00  1528848074805809152   \n",
       "3 2022-05-23 21:19:12+00:00  1528848040492257280   \n",
       "4 2022-05-23 21:19:10+00:00  1528848034506936320   \n",
       "5 2022-05-23 21:19:09+00:00  1528848028018294784   \n",
       "6 2022-05-23 21:19:07+00:00  1528848022628716544   \n",
       "7 2022-05-23 21:19:07+00:00  1528848022586675200   \n",
       "8 2022-05-23 21:18:55+00:00  1528847969373540352   \n",
       "9 2022-05-23 21:18:54+00:00  1528847965875486720   \n",
       "\n",
       "                                               tweet  \n",
       "0  RT @mylaura_m: Gusttavo Lima defende estado mí...  \n",
       "1  @ronan_jacques @leanzferdinand @DanPimpao Eu e...  \n",
       "2  RT @ClimaInfoNews: Os malditos milicos estão q...  \n",
       "3  RT @vgveiga: #EWF2022 \\nO Diretor de Educação ...  \n",
       "4  RT @BemAfrontosaaa: gente, n precisa falar cmg...  \n",
       "5  Um conselho, façam um curso sobre educação fin...  \n",
       "6  @barbieri_isa eu tirei zero em educação física...  \n",
       "7  @CAMtulio13 Burra eu vou ser se continuar te d...  \n",
       "8  RT @CascioCardoso: Não tem educação e provavel...  \n",
       "9  RT @updatecharts: Dez alunos denunciaram abuso...  "
      ]
     },
     "execution_count": 21,
     "metadata": {},
     "output_type": "execute_result"
    }
   ],
   "source": [
    "import pandas as pd\n",
    "df = pd.read_json('tweet.json',lines = True)\n",
    "df.head(10)"
   ]
  },
  {
   "cell_type": "code",
   "execution_count": 22,
   "metadata": {},
   "outputs": [
    {
     "data": {
      "text/plain": [
       "(5728, 3)"
      ]
     },
     "execution_count": 22,
     "metadata": {},
     "output_type": "execute_result"
    }
   ],
   "source": [
    "#remove duplicatas\n",
    "df.shape"
   ]
  },
  {
   "cell_type": "code",
   "execution_count": 23,
   "metadata": {},
   "outputs": [
    {
     "data": {
      "text/plain": [
       "(2366, 3)"
      ]
     },
     "execution_count": 23,
     "metadata": {},
     "output_type": "execute_result"
    }
   ],
   "source": [
    "df.drop_duplicates(['tweet'],inplace=True)\n",
    "df.shape"
   ]
  },
  {
   "cell_type": "code",
   "execution_count": 27,
   "metadata": {},
   "outputs": [],
   "source": [
    "#setando as stopWords\n",
    "from nltk.tokenize import TweetTokenizer\n",
    "from nltk.corpus import stopwords\n",
    "#stopwords = \"da,de,do,sua,ou,ser,quando,muito,há,nos,já,está,eu,também,só,pelo,pela,até,isso,ela,entre,era,depois,sem,mesmo,aos,ter,seus,quem,nas,me,esse,eles,estão,você,tinha,foram,essa,num,nem,suas,meu,às,minha,têm,numa,pelos,elas,havia,seja,qual,será,nós,tenho,lhe,deles,essas,esses,pelas,este,fosse,dele,tu,te,vocês,vos,lhes,meus,minhas,teu,tua,teus,tuas,nosso,nossa,nossos,nossas,dela,delas,esta,estes,estas,aquele,aquela,aqueles,aquelas,isto,aquilo,estou,está,estamos,estão,estive,esteve,estivemos,estiveram,estava,estávamos,estavam,estivera,estivéramos,esteja,estejamos,estejam,estivesse,estivéssemos,estivessem,estiver,estivermos,estiverem,hei,há,havemos,hão,houve,houvemos,houveram,houvera,houvéramos,haja,hajamos,hajam,houvesse,houvéssemos,houvessem,houver,houvermos,houverem,houverei,houverá,houveremos,houverão,houveria,houveríamos,houveriam,sou,somos,são,era,éramos,eram,fui,foi,fomos,foram,fora,fôramos,seja,sejamos,sejam,fosse,fôssemos,fossem,for,formos,forem,serei,será,seremos,serão,seria,seríamos,seriam,tenho,tem,temos,tém,tinha,tínhamos,tinham,tive,teve,tivemos,tiveram,tivera,tivéramos,tenha,tenhamos,tenham,tivesse,tivéssemos,tivessem,tiver,tivermos,tiverem,terei,terá,teremos,terão,teria,teríamos,teriam\""
   ]
  },
  {
   "cell_type": "code",
   "execution_count": 33,
   "metadata": {},
   "outputs": [],
   "source": [
    "tweet_tokenizer = TweetTokenizer()\n",
    "def removeStopWords(instancia):\n",
    "  palavras_de_parada = set(stopwords.words('portuguese'))\n",
    "  palavras = [i for i in tweet_tokenizer.tokenize(instancia) if not i in palavras_de_parada]\n",
    "  return (\" \".join(palavras))"
   ]
  },
  {
   "cell_type": "code",
   "execution_count": 55,
   "metadata": {},
   "outputs": [],
   "source": [
    "import re\n",
    "def clear_data(instancia):\n",
    "  specialChars = \".,;_-@!+-/*:%#()?\"\n",
    "  instancia = re.sub(r\"http\\S+\",\"\",instancia).lower().replace('…','').replace('rt','')\n",
    "  for i in instancia:\n",
    "    if i in specialChars:\n",
    "      instancia = instancia.replace(i,'')\n",
    "  return(instancia)"
   ]
  },
  {
   "cell_type": "code",
   "execution_count": 4,
   "metadata": {},
   "outputs": [],
   "source": []
  },
  {
   "cell_type": "code",
   "execution_count": 56,
   "metadata": {},
   "outputs": [
    {
     "data": {
      "text/plain": [
       "['mylauram gusttavo lima defende estado mínimo pra saúdeeducação alimentação p pobrepq p fazer repasse milionário p prefeituras',\n",
       " 'ronanjacques leanzferdinand danpimpao entendo preocupação relação escola pq confio pq ge',\n",
       " 'climainfonews malditos milicos querendo fim gratuidade sus ensino público pago educação moral cívica lembra agr',\n",
       " 'vgveiga ewf 2022 diretor educação habilidades ocdefr andreas schleicher destacou trabalho brasil direcionamento',\n",
       " 'bemafrontosaaa gente n precisa falar cmg educação gosta mim fala cmg 😏',\n",
       " 'conselho façam curso sobre educação financeira vai mudar vida 100',\n",
       " 'barbieriisa tirei zero educação física isabela',\n",
       " 'camtulio 13 burra vou ser continuar dando palanque faça tulio vejo tweet pessoa',\n",
       " 'casciocardoso educação provavelmente instrução porque interpreta coisas tanto quanto poa',\n",
       " 'updatechas dez alunos denunciaram abusos ambiente familiar após assistirem palestra sobre violência sexual escola goiás']"
      ]
     },
     "execution_count": 56,
     "metadata": {},
     "output_type": "execute_result"
    }
   ],
   "source": [
    "def preprocessamento(instancia):\n",
    "  instancia = clear_data(instancia)\n",
    "  palavras = removeStopWords(instancia)\n",
    "  return palavras\n",
    "  \n",
    "tweets = [preprocessamento(i) for i in list(df['tweet'])]\n",
    "tweets[:10]"
   ]
  },
  {
   "cell_type": "code",
   "execution_count": 35,
   "metadata": {},
   "outputs": [
    {
     "data": {
      "text/html": [
       "<div>\n",
       "<style scoped>\n",
       "    .dataframe tbody tr th:only-of-type {\n",
       "        vertical-align: middle;\n",
       "    }\n",
       "\n",
       "    .dataframe tbody tr th {\n",
       "        vertical-align: top;\n",
       "    }\n",
       "\n",
       "    .dataframe thead th {\n",
       "        text-align: right;\n",
       "    }\n",
       "</style>\n",
       "<table border=\"1\" class=\"dataframe\">\n",
       "  <thead>\n",
       "    <tr style=\"text-align: right;\">\n",
       "      <th></th>\n",
       "      <th>created_at</th>\n",
       "      <th>user_id</th>\n",
       "      <th>tweet</th>\n",
       "      <th>preprocessado</th>\n",
       "    </tr>\n",
       "  </thead>\n",
       "  <tbody>\n",
       "    <tr>\n",
       "      <th>0</th>\n",
       "      <td>2022-05-23 21:19:21+00:00</td>\n",
       "      <td>1528848077846609920</td>\n",
       "      <td>RT @mylaura_m: Gusttavo Lima defende estado mí...</td>\n",
       "      <td>mylauram gusttavo lima defende estado mínimo p...</td>\n",
       "    </tr>\n",
       "    <tr>\n",
       "      <th>1</th>\n",
       "      <td>2022-05-23 21:19:20+00:00</td>\n",
       "      <td>1528848076538007552</td>\n",
       "      <td>@ronan_jacques @leanzferdinand @DanPimpao Eu e...</td>\n",
       "      <td>ronanjacques leanzferdinand danpimpao entendo ...</td>\n",
       "    </tr>\n",
       "    <tr>\n",
       "      <th>2</th>\n",
       "      <td>2022-05-23 21:19:20+00:00</td>\n",
       "      <td>1528848074805809152</td>\n",
       "      <td>RT @ClimaInfoNews: Os malditos milicos estão q...</td>\n",
       "      <td>climainfonews malditos milicos querendo fim gr...</td>\n",
       "    </tr>\n",
       "    <tr>\n",
       "      <th>3</th>\n",
       "      <td>2022-05-23 21:19:12+00:00</td>\n",
       "      <td>1528848040492257280</td>\n",
       "      <td>RT @vgveiga: #EWF2022 \\nO Diretor de Educação ...</td>\n",
       "      <td>vgveiga #ewf2022 diretor educação habilidades ...</td>\n",
       "    </tr>\n",
       "    <tr>\n",
       "      <th>4</th>\n",
       "      <td>2022-05-23 21:19:10+00:00</td>\n",
       "      <td>1528848034506936320</td>\n",
       "      <td>RT @BemAfrontosaaa: gente, n precisa falar cmg...</td>\n",
       "      <td>bemafrontosaaa gente n precisa falar cmg educa...</td>\n",
       "    </tr>\n",
       "  </tbody>\n",
       "</table>\n",
       "</div>"
      ],
      "text/plain": [
       "                 created_at              user_id  \\\n",
       "0 2022-05-23 21:19:21+00:00  1528848077846609920   \n",
       "1 2022-05-23 21:19:20+00:00  1528848076538007552   \n",
       "2 2022-05-23 21:19:20+00:00  1528848074805809152   \n",
       "3 2022-05-23 21:19:12+00:00  1528848040492257280   \n",
       "4 2022-05-23 21:19:10+00:00  1528848034506936320   \n",
       "\n",
       "                                               tweet  \\\n",
       "0  RT @mylaura_m: Gusttavo Lima defende estado mí...   \n",
       "1  @ronan_jacques @leanzferdinand @DanPimpao Eu e...   \n",
       "2  RT @ClimaInfoNews: Os malditos milicos estão q...   \n",
       "3  RT @vgveiga: #EWF2022 \\nO Diretor de Educação ...   \n",
       "4  RT @BemAfrontosaaa: gente, n precisa falar cmg...   \n",
       "\n",
       "                                       preprocessado  \n",
       "0  mylauram gusttavo lima defende estado mínimo p...  \n",
       "1  ronanjacques leanzferdinand danpimpao entendo ...  \n",
       "2  climainfonews malditos milicos querendo fim gr...  \n",
       "3  vgveiga #ewf2022 diretor educação habilidades ...  \n",
       "4  bemafrontosaaa gente n precisa falar cmg educa...  "
      ]
     },
     "execution_count": 35,
     "metadata": {},
     "output_type": "execute_result"
    }
   ],
   "source": [
    "df['preprocessado'] = tweets\n",
    "df.head()"
   ]
  },
  {
   "cell_type": "code",
   "execution_count": 39,
   "metadata": {},
   "outputs": [],
   "source": [
    "texto = [tweet_tokenizer.tokenize(tweet) for tweet in list(df['preprocessado'])]"
   ]
  },
  {
   "cell_type": "code",
   "execution_count": null,
   "metadata": {},
   "outputs": [],
   "source": [
    "def conta_valores(texto):\n",
    "  valores = []\n",
    "  for i in texto:\n",
    "    valores += i\n",
    "  \n",
    "  res = {i:valores.count(i) for i in valores}\n",
    "  return res\n",
    "\n",
    "contagem_palavras = conta_valores(texto)\n",
    "print(contagem_palavras)\n"
   ]
  },
  {
   "cell_type": "code",
   "execution_count": null,
   "metadata": {},
   "outputs": [],
   "source": [
    "print(contagem_palavras)"
   ]
  },
  {
   "cell_type": "code",
   "execution_count": 43,
   "metadata": {},
   "outputs": [
    {
     "data": {
      "text/html": [
       "<div>\n",
       "<style scoped>\n",
       "    .dataframe tbody tr th:only-of-type {\n",
       "        vertical-align: middle;\n",
       "    }\n",
       "\n",
       "    .dataframe tbody tr th {\n",
       "        vertical-align: top;\n",
       "    }\n",
       "\n",
       "    .dataframe thead th {\n",
       "        text-align: right;\n",
       "    }\n",
       "</style>\n",
       "<table border=\"1\" class=\"dataframe\">\n",
       "  <thead>\n",
       "    <tr style=\"text-align: right;\">\n",
       "      <th></th>\n",
       "      <th>palavras</th>\n",
       "      <th>quantidade</th>\n",
       "    </tr>\n",
       "  </thead>\n",
       "  <tbody>\n",
       "    <tr>\n",
       "      <th>35</th>\n",
       "      <td>educação</td>\n",
       "      <td>1547</td>\n",
       "    </tr>\n",
       "    <tr>\n",
       "      <th>40</th>\n",
       "      <td>?</td>\n",
       "      <td>246</td>\n",
       "    </tr>\n",
       "    <tr>\n",
       "      <th>401</th>\n",
       "      <td>\"</td>\n",
       "      <td>201</td>\n",
       "    </tr>\n",
       "    <tr>\n",
       "      <th>6</th>\n",
       "      <td>pra</td>\n",
       "      <td>201</td>\n",
       "    </tr>\n",
       "    <tr>\n",
       "      <th>77</th>\n",
       "      <td>física</td>\n",
       "      <td>177</td>\n",
       "    </tr>\n",
       "    <tr>\n",
       "      <th>...</th>\n",
       "      <td>...</td>\n",
       "      <td>...</td>\n",
       "    </tr>\n",
       "    <tr>\n",
       "      <th>4215</th>\n",
       "      <td>calado</td>\n",
       "      <td>1</td>\n",
       "    </tr>\n",
       "    <tr>\n",
       "      <th>4212</th>\n",
       "      <td>#opinião</td>\n",
       "      <td>1</td>\n",
       "    </tr>\n",
       "    <tr>\n",
       "      <th>4208</th>\n",
       "      <td>falácia</td>\n",
       "      <td>1</td>\n",
       "    </tr>\n",
       "    <tr>\n",
       "      <th>4205</th>\n",
       "      <td>6693860</td>\n",
       "      <td>1</td>\n",
       "    </tr>\n",
       "    <tr>\n",
       "      <th>8487</th>\n",
       "      <td>trabalhadors</td>\n",
       "      <td>1</td>\n",
       "    </tr>\n",
       "  </tbody>\n",
       "</table>\n",
       "<p>8488 rows × 2 columns</p>\n",
       "</div>"
      ],
      "text/plain": [
       "          palavras  quantidade\n",
       "35        educação        1547\n",
       "40               ?         246\n",
       "401              \"         201\n",
       "6              pra         201\n",
       "77          física         177\n",
       "...            ...         ...\n",
       "4215        calado           1\n",
       "4212      #opinião           1\n",
       "4208       falácia           1\n",
       "4205       6693860           1\n",
       "8487  trabalhadors           1\n",
       "\n",
       "[8488 rows x 2 columns]"
      ]
     },
     "execution_count": 43,
     "metadata": {},
     "output_type": "execute_result"
    }
   ],
   "source": [
    "dataframe_contagem = pd.DataFrame.from_dict(contagem_palavras,orient='index', columns=[\"quantidade\"]).rename_axis(\"palavras\").reset_index().sort_values('quantidade', ascending=False)\n",
    "dataframe_contagem"
   ]
  },
  {
   "cell_type": "code",
   "execution_count": 44,
   "metadata": {},
   "outputs": [],
   "source": [
    "dataframe_contagem.to_csv('arquivos/out.csv',sep=\";\") \n"
   ]
  }
 ],
 "metadata": {
  "interpreter": {
   "hash": "41fc71b8a1dcfc0c2842ee14fca80ec9bb3297847b6f1166c5bb2e812b407bea"
  },
  "kernelspec": {
   "display_name": "Python 3.10.2 64-bit",
   "language": "python",
   "name": "python3"
  },
  "language_info": {
   "codemirror_mode": {
    "name": "ipython",
    "version": 3
   },
   "file_extension": ".py",
   "mimetype": "text/x-python",
   "name": "python",
   "nbconvert_exporter": "python",
   "pygments_lexer": "ipython3",
   "version": "3.10.2"
  },
  "orig_nbformat": 4
 },
 "nbformat": 4,
 "nbformat_minor": 2
}
